{
 "cells": [
  {
   "cell_type": "code",
   "execution_count": 64,
   "metadata": {},
   "outputs": [
    {
     "data": {
      "text/plain": [
       "'G:\\\\Data science\\\\JupyterNotebookDir\\\\Complete-Python-3-Bootcamp-master\\\\13-Advanced Python Modules'"
      ]
     },
     "execution_count": 64,
     "metadata": {},
     "output_type": "execute_result"
    }
   ],
   "source": [
    "pwd"
   ]
  },
  {
   "cell_type": "code",
   "execution_count": 65,
   "metadata": {},
   "outputs": [],
   "source": [
    "f = open('practice.txt','w+')\n",
    "f.write('This is a test string for opening and closing files')\n",
    "f.close()"
   ]
  },
  {
   "cell_type": "code",
   "execution_count": 2,
   "metadata": {},
   "outputs": [],
   "source": [
    "import os"
   ]
  },
  {
   "cell_type": "code",
   "execution_count": 67,
   "metadata": {},
   "outputs": [
    {
     "data": {
      "text/plain": [
       "'G:\\\\Data science\\\\JupyterNotebookDir\\\\Complete-Python-3-Bootcamp-master\\\\13-Advanced Python Modules'"
      ]
     },
     "execution_count": 67,
     "metadata": {},
     "output_type": "execute_result"
    }
   ],
   "source": [
    "os.getcwd()"
   ]
  },
  {
   "cell_type": "code",
   "execution_count": 68,
   "metadata": {},
   "outputs": [
    {
     "data": {
      "text/plain": [
       "['.ipynb_checkpoints',\n",
       " '01-Collections Module.ipynb',\n",
       " '02-Datetime.ipynb',\n",
       " '03-Python Debugger (pdb).ipynb',\n",
       " '04-Timing your code - timeit.ipynb',\n",
       " '05-Regular Expressions - re.ipynb',\n",
       " '06-StringIO.ipynb',\n",
       " 'practice.txt',\n",
       " 'Untitled.ipynb']"
      ]
     },
     "execution_count": 68,
     "metadata": {},
     "output_type": "execute_result"
    }
   ],
   "source": [
    "os.listdir()"
   ]
  },
  {
   "cell_type": "code",
   "execution_count": 70,
   "metadata": {},
   "outputs": [
    {
     "data": {
      "text/plain": [
       "['All Users', 'Default', 'Default User', 'desktop.ini', 'Public', 'User']"
      ]
     },
     "execution_count": 70,
     "metadata": {},
     "output_type": "execute_result"
    }
   ],
   "source": [
    "os.listdir('c:\\\\users')"
   ]
  },
  {
   "cell_type": "code",
   "execution_count": 71,
   "metadata": {},
   "outputs": [],
   "source": [
    "import shutil"
   ]
  },
  {
   "cell_type": "code",
   "execution_count": 72,
   "metadata": {},
   "outputs": [
    {
     "data": {
      "text/plain": [
       "'G:\\\\Data science\\\\JupyterNotebookDir\\\\Complete-Python-3-Bootcamp-master\\\\Udemy Python3 Practice problems and assessments\\\\practice.txt'"
      ]
     },
     "execution_count": 72,
     "metadata": {},
     "output_type": "execute_result"
    }
   ],
   "source": [
    "shutil.move('practice.txt','G:\\\\Data science\\\\JupyterNotebookDir\\\\Complete-Python-3-Bootcamp-master\\\\Udemy Python3 Practice problems and assessments')"
   ]
  },
  {
   "cell_type": "code",
   "execution_count": 74,
   "metadata": {},
   "outputs": [
    {
     "data": {
      "text/plain": [
       "['.git',\n",
       " '.idea',\n",
       " '00Object_Data structure_Assessment.py',\n",
       " '02GussingGame.py',\n",
       " '02StatementsAssessment.py',\n",
       " '03FunctionExercises01.py',\n",
       " '03FunctionExercises02.py',\n",
       " '03FunctionExercises03.py',\n",
       " '03FunctionExercises04.py',\n",
       " '03Function_Method_Homework.py',\n",
       " '04Project_01_Tic_Tac_Toe.py',\n",
       " '05OOP_Challenge.py',\n",
       " '05OOP_Homework.py',\n",
       " '07ErrorsExceptionsHandling.py',\n",
       " '10GeneratorsHomework.py',\n",
       " 'cap.py',\n",
       " 'CodingExercise01-09.py',\n",
       " 'Modules_and_packages',\n",
       " 'newtext.txt',\n",
       " 'practice.txt',\n",
       " 'Project_02_BlackJack.py',\n",
       " 'README.md',\n",
       " 'simple1.py',\n",
       " 'simple2.py',\n",
       " 'test.txt',\n",
       " 'test_cap.py',\n",
       " '__pycache__']"
      ]
     },
     "execution_count": 74,
     "metadata": {},
     "output_type": "execute_result"
    }
   ],
   "source": [
    "os.listdir('G:\\\\Data science\\\\JupyterNotebookDir\\\\Complete-Python-3-Bootcamp-master\\\\Udemy Python3 Practice problems and assessments')"
   ]
  },
  {
   "cell_type": "code",
   "execution_count": 75,
   "metadata": {},
   "outputs": [],
   "source": [
    "import send2trash"
   ]
  },
  {
   "cell_type": "code",
   "execution_count": 76,
   "metadata": {},
   "outputs": [
    {
     "data": {
      "text/plain": [
       "'G:\\\\Data science\\\\JupyterNotebookDir\\\\Complete-Python-3-Bootcamp-master\\\\13-Advanced Python Modules\\\\practice.txt'"
      ]
     },
     "execution_count": 76,
     "metadata": {},
     "output_type": "execute_result"
    }
   ],
   "source": [
    "shutil.move('G:\\\\Data science\\\\JupyterNotebookDir\\\\Complete-Python-3-Bootcamp-master\\\\Udemy Python3 Practice problems and assessments\\\\practice.txt',os.getcwd())"
   ]
  },
  {
   "cell_type": "code",
   "execution_count": 82,
   "metadata": {},
   "outputs": [
    {
     "data": {
      "text/plain": [
       "['.ipynb_checkpoints',\n",
       " '01-Collections Module.ipynb',\n",
       " '02-Datetime.ipynb',\n",
       " '03-Python Debugger (pdb).ipynb',\n",
       " '04-Timing your code - timeit.ipynb',\n",
       " '05-Regular Expressions - re.ipynb',\n",
       " '06-StringIO.ipynb',\n",
       " 'Example_top',\n",
       " 'Untitled.ipynb']"
      ]
     },
     "execution_count": 82,
     "metadata": {},
     "output_type": "execute_result"
    }
   ],
   "source": [
    "os.listdir()"
   ]
  },
  {
   "cell_type": "code",
   "execution_count": 79,
   "metadata": {},
   "outputs": [],
   "source": [
    "send2trash.send2trash('practice.txt')"
   ]
  },
  {
   "cell_type": "code",
   "execution_count": 3,
   "metadata": {},
   "outputs": [
    {
     "data": {
      "text/plain": [
       "['.ipynb_checkpoints',\n",
       " '01-Collections Module.ipynb',\n",
       " '02-Datetime.ipynb',\n",
       " '03-Python Debugger (pdb).ipynb',\n",
       " '04-Timing your code - timeit more.ipynb',\n",
       " '04-Timing your code - timeit.ipynb',\n",
       " '05-Regex practices.ipynb',\n",
       " '05-Regular Expressions - re.ipynb',\n",
       " '06-StringIO.ipynb',\n",
       " '07-Opening and Reading Files and Folders (OS module).ipynb',\n",
       " '08-Math and Random Module.ipynb',\n",
       " '09-Zipping and unzipping files folders.ipynb',\n",
       " '13-Advanced Modules Exercise Puzzle.ipynb',\n",
       " 'Example.zip',\n",
       " 'Example_top',\n",
       " 'extracted',\n",
       " 'extracted_content',\n",
       " 'File Comp.zip',\n",
       " 'file.txt',\n",
       " 'file2.txt',\n",
       " 'final unzip',\n",
       " 'unzip_me_for_instructions.zip']"
      ]
     },
     "execution_count": 3,
     "metadata": {},
     "output_type": "execute_result"
    }
   ],
   "source": [
    "os.listdir()"
   ]
  },
  {
   "cell_type": "code",
   "execution_count": 7,
   "metadata": {},
   "outputs": [
    {
     "data": {
      "text/plain": [
       "'G:\\\\Data science\\\\JupyterNotebookDir\\\\Complete-Python-3-Bootcamp-master\\\\13-Advanced Python Modules'"
      ]
     },
     "execution_count": 7,
     "metadata": {},
     "output_type": "execute_result"
    }
   ],
   "source": [
    "import os\n",
    "os.getcwd()"
   ]
  },
  {
   "cell_type": "code",
   "execution_count": 8,
   "metadata": {},
   "outputs": [],
   "source": [
    "filepath = 'G:\\\\Data science\\\\JupyterNotebookDir\\\\Complete-Python-3-Bootcamp-master\\\\13-Advanced Python Modules\\\\Example_top'"
   ]
  },
  {
   "cell_type": "code",
   "execution_count": 16,
   "metadata": {},
   "outputs": [
    {
     "name": "stdout",
     "output_type": "stream",
     "text": [
      "current folder: G:\\Data science\\JupyterNotebookDir\\Complete-Python-3-Bootcamp-master\\13-Advanced Python Modules\\Example_top\n",
      "\n",
      "\n",
      "Subfolders: \n",
      "\t Sub: Example_mid1\n",
      "\t Sub: Example_mid2\n",
      "\n",
      "\n",
      "the files are: \n",
      "\t File: Example_top.txt\n",
      "\n",
      "\n",
      "current folder: G:\\Data science\\JupyterNotebookDir\\Complete-Python-3-Bootcamp-master\\13-Advanced Python Modules\\Example_top\\Example_mid1\n",
      "\n",
      "\n",
      "Subfolders: \n",
      "\t Sub: Example_bottomMid1\n",
      "\n",
      "\n",
      "the files are: \n",
      "\t File: Example_mid1.txt\n",
      "\n",
      "\n",
      "current folder: G:\\Data science\\JupyterNotebookDir\\Complete-Python-3-Bootcamp-master\\13-Advanced Python Modules\\Example_top\\Example_mid1\\Example_bottomMid1\n",
      "\n",
      "\n",
      "Subfolders: \n",
      "\n",
      "\n",
      "the files are: \n",
      "\t File: Example_bottomMid1.txt\n",
      "\n",
      "\n",
      "current folder: G:\\Data science\\JupyterNotebookDir\\Complete-Python-3-Bootcamp-master\\13-Advanced Python Modules\\Example_top\\Example_mid2\n",
      "\n",
      "\n",
      "Subfolders: \n",
      "\t Sub: Example_bottomMid2\n",
      "\n",
      "\n",
      "the files are: \n",
      "\t File: Example_mid2.txt\n",
      "\n",
      "\n",
      "current folder: G:\\Data science\\JupyterNotebookDir\\Complete-Python-3-Bootcamp-master\\13-Advanced Python Modules\\Example_top\\Example_mid2\\Example_bottomMid2\n",
      "\n",
      "\n",
      "Subfolders: \n",
      "\n",
      "\n",
      "the files are: \n",
      "\t File: Example_bottomMid2.txt\n",
      "\n",
      "\n"
     ]
    }
   ],
   "source": [
    "for folder, sub_folders, files in os.walk(filepath):\n",
    "    print(f'current folder: {folder}')\n",
    "    print('\\n')\n",
    "    print('Subfolders: ')\n",
    "    for sub_fold in sub_folders:\n",
    "        print(f'\\t Sub: {sub_fold}')\n",
    "        \n",
    "    print('\\n')\n",
    "    print('the files are: ')\n",
    "    for file in files:\n",
    "        print(f'\\t File: {file}')\n",
    "    print('\\n')"
   ]
  },
  {
   "cell_type": "code",
   "execution_count": null,
   "metadata": {},
   "outputs": [],
   "source": []
  }
 ],
 "metadata": {
  "kernelspec": {
   "display_name": "Python 3",
   "language": "python",
   "name": "python3"
  },
  "language_info": {
   "codemirror_mode": {
    "name": "ipython",
    "version": 3
   },
   "file_extension": ".py",
   "mimetype": "text/x-python",
   "name": "python",
   "nbconvert_exporter": "python",
   "pygments_lexer": "ipython3",
   "version": "3.7.4"
  }
 },
 "nbformat": 4,
 "nbformat_minor": 2
}
