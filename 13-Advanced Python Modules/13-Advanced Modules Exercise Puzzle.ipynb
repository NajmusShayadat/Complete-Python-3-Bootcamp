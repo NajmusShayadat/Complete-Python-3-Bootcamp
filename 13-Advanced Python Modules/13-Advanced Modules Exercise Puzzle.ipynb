{
 "cells": [
  {
   "cell_type": "code",
   "execution_count": 2,
   "metadata": {},
   "outputs": [
    {
     "name": "stdout",
     "output_type": "stream",
     "text": [
      "Good work on unzipping the file!\n",
      "You should now see 5 folders, each with a lot of random .txt files.\n",
      "Within one of these text files is a telephone number formated ###-###-#### \n",
      "Use the Python os module and regular expressions to iterate through each file, open it, and search for a telephone number.\n",
      "Good luck!\n",
      "Phone number:\t719-266-2837\n",
      "\n",
      "Folder path:\t:G:\\Data science\\JupyterNotebookDir\\Complete-Python-3-Bootcamp-master\\13-Advanced Python Modules\\extracted_content\\Four\n",
      "\n",
      "File name:\tEMTGPSXQEJX.txt\n",
      "\n"
     ]
    }
   ],
   "source": [
    "import shutil\n",
    "import os\n",
    "import re\n",
    "\n",
    "\n",
    "def text_in_folders(filepath, pattern):\n",
    "    '''\n",
    "    This function takes the a pattern and root directory.\n",
    "    Creates filepath for each files found in the folders and sub folders.\n",
    "    Then open and read each file and search using Regular Expression\n",
    "    Prints out the Filepath, filename and the found pattern'''\n",
    "    \n",
    "    for folder,sub_folders, files in os.walk(filepath):\n",
    "\n",
    "        for file in files:\n",
    "            \n",
    "            # Create path including filename\n",
    "            filename = folder+'\\\\'+file\n",
    "            \n",
    "            with open(filename,'r') as f:\n",
    "                phone = re.search(pattern,f.read())\n",
    "                if phone:\n",
    "                    print('\\n\\nPhone number:\\t'+phone.group()+'\\n')\n",
    "                    print('Folder path:\\t:'+folder+'\\n')\n",
    "                    print('File name:\\t'+file+'\\n')\n",
    "                    #break # break in case you need justone targeted pattern\n",
    "                else:\n",
    "                    continue\n",
    "\n",
    "\n",
    "\n",
    "def grab_foldername(a,b):\n",
    "    '''\n",
    "    This function returns name of the unzipped files/folder by comparing before and\n",
    "    after list of files/folders.\n",
    "    '''\n",
    "\n",
    "    c = list((set(a) | set(b)) - (set(a) & set(b)))\n",
    "    return c[0]\n",
    "\n",
    "\n",
    "# Folder and file list from the wworking directory before and after unzipping\n",
    "before = os.listdir()\n",
    "shutil.unpack_archive(\"unzip_me_for_instructions.zip\")\n",
    "after = os.listdir()\n",
    "\n",
    "# Find the unzipped foldername\n",
    "content = grab_foldername(before, after)\n",
    "\n",
    "# Create the filepath of thee working directory\n",
    "fp = os.getcwd() + \"\\\\\" + content\n",
    "\n",
    "# Read the Instructions.txt file\n",
    "with open(fp + \"\\\\\" + 'Instructions.txt','r') as f:\n",
    "    print(f.read())\n",
    "\n",
    "# Set the pattern to look up in the text files\n",
    "ptrn = r'\\d{3}-\\d{3}-\\d{4}'\n",
    "\n",
    "# Call the function to return the search result\n",
    "text_in_folders(fp, ptrn)"
   ]
  },
  {
   "cell_type": "code",
   "execution_count": null,
   "metadata": {},
   "outputs": [],
   "source": []
  }
 ],
 "metadata": {
  "kernelspec": {
   "display_name": "Python 3",
   "language": "python",
   "name": "python3"
  },
  "language_info": {
   "codemirror_mode": {
    "name": "ipython",
    "version": 3
   },
   "file_extension": ".py",
   "mimetype": "text/x-python",
   "name": "python",
   "nbconvert_exporter": "python",
   "pygments_lexer": "ipython3",
   "version": "3.7.4"
  }
 },
 "nbformat": 4,
 "nbformat_minor": 2
}
